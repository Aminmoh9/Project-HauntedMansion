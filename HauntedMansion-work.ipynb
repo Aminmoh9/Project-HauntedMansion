{
 "cells": [
  {
   "cell_type": "code",
   "execution_count": null,
   "metadata": {},
   "outputs": [],
   "source": [
    "rooms = {\n",
    "    'Foyer': {\n",
    "        'description': 'A dimly lit entrance hall with a grand staircase.',\n",
    "        'connections': [],\n",
    "        'items': ['mirrors','ruck','chandelier']\n",
    "    },\n",
    "    'Library': {\n",
    "        'description': 'Walls lined with ancient books. A cold draft chills you.',\n",
    "        'connections': ['Bedroom', 'Basement'],\n",
    "        'items': ['bookshelf','painting','wooden chest','door a','door b']\n",
    "    },\n",
    "    'Bedroom': {\n",
    "        'description': 'A cozy bedroom with a large bed and a wardrobe.',\n",
    "        'connections': ['Library'],\n",
    "        'items': ['pistol','flashlight','garlic bulb','door a']\n",
    "    },\n",
    "    'Basement': {\n",
    "        'description': 'A dark and damp basement with a musty smell.',\n",
    "        'connections': ['Library', 'Kitchen'],\n",
    "        'items': ['vampire','door b','door c','rusty chain','broken mirror' ]\n",
    "        \n",
    "    \n",
    "    },\n",
    "    'Kitchen': {\n",
    "        'description': 'A dark kitchen filled with strange smells.',\n",
    "        'connections': ['Dining Room', 'Basement'],\n",
    "        'items': ['potion','cabinet','door c','door d']\n",
    "    },\n",
    "    'Dining Room': {\n",
    "        'description': 'An elegant dining room with an old chandelier.',\n",
    "        'connections': ['Kitchen'],\n",
    "        'items': ['dining table','mural','fireplace','door d']\n",
    "    }\n",
    "    # Additional rooms...\n",
    "}"
   ]
  },
  {
   "cell_type": "code",
   "execution_count": null,
   "metadata": {},
   "outputs": [],
   "source": [
    "hidden_items={\n",
    "    'wooden chest': 'key a',   # Requires a riddle to open\n",
    "    'vampire': 'key b',        # Requires defeating the vampire\n",
    "    'cabinet':'key c'          # Requires solving a riddle to open\n",
    "}"
   ]
  },
  {
   "cell_type": "code",
   "execution_count": null,
   "metadata": {},
   "outputs": [],
   "source": [
    "inventory=[]"
   ]
  },
  {
   "cell_type": "code",
   "execution_count": null,
   "metadata": {},
   "outputs": [],
   "source": [
    "vampire_defeated= False #Special condition"
   ]
  },
  {
   "cell_type": "code",
   "execution_count": null,
   "metadata": {},
   "outputs": [
    {
     "ename": "SyntaxError",
     "evalue": "incomplete input (1759771594.py, line 19)",
     "output_type": "error",
     "traceback": [
      "\u001b[1;36m  Cell \u001b[1;32mIn[1], line 19\u001b[1;36m\u001b[0m\n\u001b[1;33m    # Logic for moving between rooms\u001b[0m\n\u001b[1;37m                                    ^\u001b[0m\n\u001b[1;31mSyntaxError\u001b[0m\u001b[1;31m:\u001b[0m incomplete input\n"
     ]
    }
   ],
   "source": [
    "class Room:\n",
    "    def __init__(self, name, description):\n",
    "        self.name = name\n",
    "        self.description = description\n",
    "        self.connections = []\n",
    "        self.items = []\n",
    " \n",
    "class Item:\n",
    "    def __init__(self, name, description):\n",
    "        self.name = name\n",
    "        self.description = description\n",
    " \n",
    "class Player:\n",
    "    def __init__(self):\n",
    "        self.current_room = None\n",
    "        self.inventory = []\n",
    " \n",
    "    def move(self, new_room):\n",
    "        self.current_room=new_room\n",
    "        print()\n",
    "\n",
    "        # Logic for moving between rooms"
   ]
  },
  {
   "cell_type": "code",
   "execution_count": null,
   "metadata": {},
   "outputs": [],
   "source": []
  }
 ],
 "metadata": {
  "kernelspec": {
   "display_name": "base",
   "language": "python",
   "name": "python3"
  },
  "language_info": {
   "codemirror_mode": {
    "name": "ipython",
    "version": 3
   },
   "file_extension": ".py",
   "mimetype": "text/x-python",
   "name": "python",
   "nbconvert_exporter": "python",
   "pygments_lexer": "ipython3",
   "version": "3.12.7"
  }
 },
 "nbformat": 4,
 "nbformat_minor": 2
}
