{
 "cells": [
  {
   "cell_type": "code",
   "execution_count": null,
   "metadata": {},
   "outputs": [],
   "source": [
    "rooms = {\n",
    "    'Foyer': {\n",
    "        'description': 'A dimly lit entrance hall with a grand staircase.',\n",
    "        'connections': [],\n",
    "        'items': ['mirrors','ruck','chandelier']\n",
    "    },\n",
    "    'Library': {\n",
    "        'description': 'Walls lined with ancient books. A cold draft chills you.',\n",
    "        'connections': ['Bedroom', 'Basement'],\n",
    "        'items': ['bookshelf','painting','wooden chest','door a','door b']\n",
    "    },\n",
    "    'Bedroom': {\n",
    "        'description': 'A cozy bedroom with a large bed and a wardrobe.',\n",
    "        'connections': ['Library'],\n",
    "        'items': ['pistol','flashlight','garlic bulb','door a']\n",
    "    },\n",
    "    'Basement': {\n",
    "        'description': 'A dark and damp basement with a musty smell.',\n",
    "        'connections': ['Library', 'Kitchen'],\n",
    "        'items': ['vampire','door b','door c','rusty chain','broken mirror' ]\n",
    "        \n",
    "    \n",
    "    },\n",
    "    'Kitchen': {\n",
    "        'description': 'A dark kitchen filled with strange smells.',\n",
    "        'connections': ['Dining Room', 'Basement'],\n",
    "        'items': ['potion','cabinet','door c','door d']\n",
    "    },\n",
    "    'Dining Room': {\n",
    "        'description': 'An elegant dining room with an old chandelier.',\n",
    "        'connections': ['Kitchen'],\n",
    "        'items': ['dining table','mural','fireplace','door d']\n",
    "    }\n",
    "    # Additional rooms...\n",
    "}"
   ]
  },
  {
   "cell_type": "code",
   "execution_count": null,
   "metadata": {},
   "outputs": [],
   "source": []
  }
 ],
 "metadata": {
  "kernelspec": {
   "display_name": "base",
   "language": "python",
   "name": "python3"
  },
  "language_info": {
   "codemirror_mode": {
    "name": "ipython",
    "version": 3
   },
   "file_extension": ".py",
   "mimetype": "text/x-python",
   "name": "python",
   "nbconvert_exporter": "python",
   "pygments_lexer": "ipython3",
   "version": "3.12.7"
  }
 },
 "nbformat": 4,
 "nbformat_minor": 2
}
